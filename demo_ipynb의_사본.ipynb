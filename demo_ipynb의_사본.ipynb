{
  "nbformat": 4,
  "nbformat_minor": 0,
  "metadata": {
    "accelerator": "GPU",
    "colab": {
      "name": "demo.ipynb의 사본",
      "provenance": [],
      "toc_visible": true,
      "include_colab_link": true
    },
    "kernelspec": {
      "display_name": "Python 3",
      "language": "python",
      "name": "python3"
    },
    "language_info": {
      "codemirror_mode": {
        "name": "ipython",
        "version": 3
      },
      "file_extension": ".py",
      "mimetype": "text/x-python",
      "name": "python",
      "nbconvert_exporter": "python",
      "pygments_lexer": "ipython3",
      "version": "3.6.6"
    }
  },
  "cells": [
    {
      "cell_type": "markdown",
      "metadata": {
        "id": "view-in-github",
        "colab_type": "text"
      },
      "source": [
        "<a href=\"https://colab.research.google.com/github/secutron/RNN-for-Human-Activity-Recognition-using-2D-Pose-Input/blob/master/demo_ipynb%EC%9D%98_%EC%82%AC%EB%B3%B8.ipynb\" target=\"_parent\"><img src=\"https://colab.research.google.com/assets/colab-badge.svg\" alt=\"Open In Colab\"/></a>"
      ]
    },
    {
      "cell_type": "code",
      "metadata": {
        "id": "cVJM59Tz5YzN",
        "colab_type": "code",
        "outputId": "9253de25-3849-4bb8-8973-577b47943195",
        "colab": {
          "base_uri": "https://localhost:8080/",
          "height": 51
        }
      },
      "source": [
        "%xmode Verbose\n",
        "%pdb on"
      ],
      "execution_count": 0,
      "outputs": [
        {
          "output_type": "stream",
          "text": [
            "Exception reporting mode: Verbose\n",
            "Automatic pdb calling has been turned ON\n"
          ],
          "name": "stdout"
        }
      ]
    },
    {
      "cell_type": "code",
      "metadata": {
        "colab_type": "code",
        "id": "Sy6jTYNhGgB2",
        "outputId": "7ef461c7-16f4-42bd-fc22-87b385d04a85",
        "colab": {
          "base_uri": "https://localhost:8080/",
          "height": 170
        }
      },
      "source": [
        "!git clone https://github.com/secutron/face_toolbox_keras.git\n",
        "%cd face_toolbox_keras"
      ],
      "execution_count": 0,
      "outputs": [
        {
          "output_type": "stream",
          "text": [
            "Cloning into 'face_toolbox_keras'...\n",
            "remote: Enumerating objects: 254, done.\u001b[K\n",
            "remote: Counting objects: 100% (254/254), done.\u001b[K\n",
            "remote: Compressing objects: 100% (240/240), done.\u001b[K\n",
            "remote: Total 484 (delta 131), reused 23 (delta 11), pack-reused 230\u001b[K\n",
            "Receiving objects: 100% (484/484), 247.75 MiB | 33.80 MiB/s, done.\n",
            "Resolving deltas: 100% (235/235), done.\n",
            "Checking out files: 100% (42/42), done.\n",
            "/content/face_toolbox_keras\n"
          ],
          "name": "stdout"
        }
      ]
    },
    {
      "cell_type": "code",
      "metadata": {
        "colab_type": "code",
        "id": "siRPZdwbGtrq",
        "outputId": "ae46673c-d0a6-42d0-97b5-c99335862dd2",
        "colab": {
          "base_uri": "https://localhost:8080/",
          "height": 221
        }
      },
      "source": [
        "!gdown https://drive.google.com/uc?id=1H37LER8mRRI4q_nxpS3uQz3DcGHkTrNU\n",
        "!mv lresnet100e_ir_keras.h5 ./models/verifier/insightface/lresnet100e_ir_keras.h5\n",
        "!gdown https://drive.google.com/uc?id=18MyyXQIwhR5I6gzipYMiJ9ywgvFWQMvI\n",
        "!mv backbone_ir50_ms1m_keras.h5 ./models/verifier/face_evoLVe_ir50/backbone_ir50_ms1m_keras.h5\n",
        "!gdown https://drive.google.com/uc?id=1P_eQHU8bNJEsB6hHt_fnltOwQVKIfhiX\n",
        "!mv backbone_ir50_asia_keras.h5 ./models/verifier/face_evoLVe_ir50/backbone_ir50_asia_keras.h5"
      ],
      "execution_count": 0,
      "outputs": [
        {
          "output_type": "stream",
          "text": [
            "Downloading...\n",
            "From: https://drive.google.com/uc?id=1H37LER8mRRI4q_nxpS3uQz3DcGHkTrNU\n",
            "To: /content/face_toolbox_keras/lresnet100e_ir_keras.h5\n",
            "262MB [00:01, 167MB/s]\n",
            "Downloading...\n",
            "From: https://drive.google.com/uc?id=18MyyXQIwhR5I6gzipYMiJ9ywgvFWQMvI\n",
            "To: /content/face_toolbox_keras/backbone_ir50_ms1m_keras.h5\n",
            "175MB [00:01, 138MB/s] \n",
            "Downloading...\n",
            "From: https://drive.google.com/uc?id=1P_eQHU8bNJEsB6hHt_fnltOwQVKIfhiX\n",
            "To: /content/face_toolbox_keras/backbone_ir50_asia_keras.h5\n",
            "175MB [00:00, 190MB/s]\n"
          ],
          "name": "stdout"
        }
      ]
    },
    {
      "cell_type": "code",
      "metadata": {
        "id": "6C6vdQgtVFYK",
        "colab_type": "code",
        "colab": {}
      },
      "source": [
        "#!pip install keras==2.2.4"
      ],
      "execution_count": 0,
      "outputs": []
    },
    {
      "cell_type": "code",
      "metadata": {
        "colab_type": "code",
        "id": "i7t5SsAjGgB7",
        "colab": {}
      },
      "source": [
        "import warnings\n",
        "warnings.filterwarnings(\"ignore\")"
      ],
      "execution_count": 0,
      "outputs": []
    },
    {
      "cell_type": "code",
      "metadata": {
        "colab_type": "code",
        "id": "yLfU_HFAGgB9",
        "colab": {}
      },
      "source": [
        "import cv2\n",
        "import numpy as np\n",
        "from matplotlib import pyplot as plt"
      ],
      "execution_count": 0,
      "outputs": []
    },
    {
      "cell_type": "markdown",
      "metadata": {
        "colab_type": "text",
        "id": "k5z8WmzeGgCA"
      },
      "source": [
        "---"
      ]
    },
    {
      "cell_type": "code",
      "metadata": {
        "colab_type": "code",
        "id": "3IBpongKGgCA",
        "colab": {}
      },
      "source": [
        "def resize_image(im, max_size=768):\n",
        "    if np.max(im.shape) > max_size:\n",
        "        ratio = max_size / np.max(im.shape)\n",
        "        print(f\"Resize image to ({str(int(im.shape[1]*ratio))}, {str(int(im.shape[0]*ratio))}).\")\n",
        "        return cv2.resize(im, (0,0), fx=ratio, fy=ratio)\n",
        "    return im"
      ],
      "execution_count": 0,
      "outputs": []
    },
    {
      "cell_type": "code",
      "metadata": {
        "colab_type": "code",
        "id": "xg-3V1fdGgCD",
        "outputId": "764b8e6d-0af2-4aef-99a2-0b03db6252b2",
        "colab": {
          "base_uri": "https://localhost:8080/",
          "height": 286
        }
      },
      "source": [
        "# Test images are obtained on https://www.pexels.com/\n",
        "im = cv2.imread(\"images/test.jpg\")[..., ::-1]\n",
        "im = resize_image(im) # Resize image to prevent GPU OOM.\n",
        "h, w, _ = im.shape\n",
        "plt.imshow(im)"
      ],
      "execution_count": 0,
      "outputs": [
        {
          "output_type": "execute_result",
          "data": {
            "text/plain": [
              "<matplotlib.image.AxesImage at 0x7fb7126dafd0>"
            ]
          },
          "metadata": {
            "tags": []
          },
          "execution_count": 12
        },
        {
          "output_type": "display_data",
          "data": {
            "image/png": "[encoded data removed]",
            "text/plain": [
              "<Figure size 432x288 with 1 Axes>"
            ]
          },
          "metadata": {
            "tags": [],
            "needs_background": "light"
          }
        }
      ]
    },
    {
      "cell_type": "markdown",
      "metadata": {
        "colab_type": "text",
        "id": "JBFQloPwGgCI"
      },
      "source": [
        "---\n",
        "# 0. Coordinate ordering\n",
        "\n",
        "The coordinate in this demo has ordering `(x, y)`, which follows the format fo numpy array: `x` is the vertical axis and `y` the horizontal axis."
      ]
    },
    {
      "cell_type": "markdown",
      "metadata": {
        "colab_type": "text",
        "id": "pEvhtDVAGgCJ"
      },
      "source": [
        "---\n",
        "# 1. Face detection\n",
        "\n",
        "Face deteciton using S3FD and FAN."
      ]
    },
    {
      "cell_type": "code",
      "metadata": {
        "colab_type": "code",
        "id": "CXxfULfzGgCK",
        "outputId": "8866c138-2761-4dfa-de47-6a06fdd8a70d",
        "colab": {
          "base_uri": "https://localhost:8080/",
          "height": 34
        }
      },
      "source": [
        "from models.detector import face_detector\n",
        "\n",
        "import tensorflow as tf\n",
        "print(tf.__version__)\n",
        "\n",
        "from tensorflow.keras import initializers\n",
        "iz = initializers.get('zeros')"
      ],
      "execution_count": 0,
      "outputs": [
        {
          "output_type": "stream",
          "text": [
            "2.2.0\n"
          ],
          "name": "stdout"
        }
      ]
    },
    {
      "cell_type": "code",
      "metadata": {
        "colab_type": "code",
        "id": "svMvUnzIGgCN",
        "outputId": "4e743ffc-e7bb-494e-9b74-74a214e18485",
        "colab": {
          "base_uri": "https://localhost:8080/",
          "height": 1000
        }
      },
      "source": [
        "fd = face_detector.FaceAlignmentDetector(\n",
        "    lmd_weights_path=\"./models/detector/FAN/2DFAN-4_keras.h5\"# 2DFAN-4_keras.h5, 2DFAN-1_keras.h5\n",
        ")"
      ],
      "execution_count": 0,
      "outputs": [
        {
          "output_type": "error",
          "ename": "NameError",
          "evalue": "ignored",
          "traceback": [
            "\u001b[0;31m---------------------------------------------------------------------------\u001b[0m",
            "\u001b[0;31mNameError\u001b[0m                                 Traceback (most recent call last)",
            "\u001b[0;32m<ipython-input-15-2abf23d1ef98>\u001b[0m in \u001b[0;36m<module>\u001b[0;34m()\u001b[0m\n\u001b[1;32m      1\u001b[0m fd = face_detector.FaceAlignmentDetector(\n\u001b[0;32m----> 2\u001b[0;31m     \u001b[0mlmd_weights_path\u001b[0m\u001b[0;34m=\u001b[0m\u001b[0;34m\"./models/detector/FAN/2DFAN-4_keras.h5\"\u001b[0m\u001b[0;31m# 2DFAN-4_keras.h5, 2DFAN-1_keras.h5\u001b[0m\u001b[0;34m\u001b[0m\u001b[0;34m\u001b[0m\u001b[0m\n\u001b[0m        \u001b[0;36mglobal\u001b[0m \u001b[0;36mlmd_weights_path\u001b[0m \u001b[0;34m= \u001b[0;36mundefined\u001b[0m\u001b[0m\n\u001b[1;32m      3\u001b[0m )\n",
            "\u001b[0;32m/content/face_toolbox_keras/models/detector/face_detector.py\u001b[0m in \u001b[0;36m__init__\u001b[0;34m(self=<models.detector.face_detector.FaceAlignmentDetector object>, fd_weights_path=PosixPath('/content/face_toolbox_keras/models/detector/s3fd/s3fd_keras_weights.h5'), lmd_weights_path='./models/detector/FAN/2DFAN-4_keras.h5', fd_type='s3fd')\u001b[0m\n\u001b[1;32m     48\u001b[0m         \u001b[0mself\u001b[0m\u001b[0;34m.\u001b[0m\u001b[0mfd_type\u001b[0m \u001b[0;34m=\u001b[0m \u001b[0mfd_type\u001b[0m\u001b[0;34m.\u001b[0m\u001b[0mlower\u001b[0m\u001b[0;34m(\u001b[0m\u001b[0;34m)\u001b[0m\u001b[0;34m\u001b[0m\u001b[0;34m\u001b[0m\u001b[0m\n\u001b[1;32m     49\u001b[0m         \u001b[0;32mif\u001b[0m \u001b[0mfd_type\u001b[0m\u001b[0;34m.\u001b[0m\u001b[0mlower\u001b[0m\u001b[0;34m(\u001b[0m\u001b[0;34m)\u001b[0m \u001b[0;34m==\u001b[0m \u001b[0;34m\"s3fd\"\u001b[0m\u001b[0;34m:\u001b[0m\u001b[0;34m\u001b[0m\u001b[0;34m\u001b[0m\u001b[0m\n\u001b[0;32m---> 50\u001b[0;31m             \u001b[0mself\u001b[0m\u001b[0;34m.\u001b[0m\u001b[0mfd\u001b[0m \u001b[0;34m=\u001b[0m \u001b[0mS3FaceDetector\u001b[0m\u001b[0;34m(\u001b[0m\u001b[0mfd_weights_path\u001b[0m\u001b[0;34m)\u001b[0m\u001b[0;34m\u001b[0m\u001b[0;34m\u001b[0m\u001b[0m\n\u001b[0m        \u001b[0;36mself.fd\u001b[0m \u001b[0;34m= \u001b[0;36mundefined\u001b[0m\u001b[0m\u001b[0;34m\n        \u001b[0m\u001b[0;36mglobal\u001b[0m \u001b[0;36mS3FaceDetector\u001b[0m \u001b[0;34m= <class 'models.detector.face_detector.S3FaceDetector'>\u001b[0m\u001b[0;34m\n        \u001b[0m\u001b[0;36mfd_weights_path\u001b[0m \u001b[0;34m= PosixPath('/content/face_toolbox_keras/models/detector/s3fd/s3fd_keras_weights.h5')\u001b[0m\n\u001b[1;32m     51\u001b[0m         \u001b[0;32melif\u001b[0m \u001b[0mfd_type\u001b[0m\u001b[0;34m.\u001b[0m\u001b[0mlower\u001b[0m\u001b[0;34m(\u001b[0m\u001b[0;34m)\u001b[0m \u001b[0;34m==\u001b[0m \u001b[0;34m\"mtcnn\"\u001b[0m\u001b[0;34m:\u001b[0m\u001b[0;34m\u001b[0m\u001b[0;34m\u001b[0m\u001b[0m\n\u001b[1;32m     52\u001b[0m             \u001b[0mself\u001b[0m\u001b[0;34m.\u001b[0m\u001b[0mfd\u001b[0m \u001b[0;34m=\u001b[0m \u001b[0mMTCNNFaceDetector\u001b[0m\u001b[0;34m(\u001b[0m\u001b[0;34m)\u001b[0m\u001b[0;34m\u001b[0m\u001b[0;34m\u001b[0m\u001b[0m\n",
            "\u001b[0;32m/content/face_toolbox_keras/models/detector/face_detector.py\u001b[0m in \u001b[0;36m__init__\u001b[0;34m(self=<models.detector.face_detector.S3FaceDetector object>, weights_path=PosixPath('/content/face_toolbox_keras/models/detector/s3fd/s3fd_keras_weights.h5'))\u001b[0m\n\u001b[1;32m     32\u001b[0m \u001b[0;32mclass\u001b[0m \u001b[0mS3FaceDetector\u001b[0m\u001b[0;34m(\u001b[0m\u001b[0mBaseFaceDetector\u001b[0m\u001b[0;34m)\u001b[0m\u001b[0;34m:\u001b[0m\u001b[0;34m\u001b[0m\u001b[0;34m\u001b[0m\u001b[0m\n\u001b[1;32m     33\u001b[0m     \u001b[0;32mdef\u001b[0m \u001b[0m__init__\u001b[0m\u001b[0;34m(\u001b[0m\u001b[0mself\u001b[0m\u001b[0;34m,\u001b[0m \u001b[0mweights_path\u001b[0m\u001b[0;34m=\u001b[0m\u001b[0mFILE_PATH\u001b[0m \u001b[0;34m/\u001b[0m \u001b[0;34m\"s3fd\"\u001b[0m \u001b[0;34m/\u001b[0m \u001b[0;34m\"s3fd_keras_weights.h5\"\u001b[0m\u001b[0;34m)\u001b[0m\u001b[0;34m:\u001b[0m\u001b[0;34m\u001b[0m\u001b[0;34m\u001b[0m\u001b[0m\n\u001b[0;32m---> 34\u001b[0;31m         \u001b[0mself\u001b[0m\u001b[0;34m.\u001b[0m\u001b[0mface_detector\u001b[0m \u001b[0;34m=\u001b[0m \u001b[0mS3FD\u001b[0m\u001b[0;34m(\u001b[0m\u001b[0mweights_path\u001b[0m\u001b[0;34m)\u001b[0m\u001b[0;34m\u001b[0m\u001b[0;34m\u001b[0m\u001b[0m\n\u001b[0m        \u001b[0;36mself.face_detector\u001b[0m \u001b[0;34m= \u001b[0;36mundefined\u001b[0m\u001b[0m\u001b[0;34m\n        \u001b[0m\u001b[0;36mglobal\u001b[0m \u001b[0;36mS3FD\u001b[0m \u001b[0;34m= <class 'models.detector.s3fd.s3fd_detector.S3FD'>\u001b[0m\u001b[0;34m\n        \u001b[0m\u001b[0;36mweights_path\u001b[0m \u001b[0;34m= PosixPath('/content/face_toolbox_keras/models/detector/s3fd/s3fd_keras_weights.h5')\u001b[0m\n\u001b[1;32m     35\u001b[0m \u001b[0;34m\u001b[0m\u001b[0m\n\u001b[1;32m     36\u001b[0m     \u001b[0;32mdef\u001b[0m \u001b[0mdetect_face\u001b[0m\u001b[0;34m(\u001b[0m\u001b[0mself\u001b[0m\u001b[0;34m,\u001b[0m \u001b[0mimage\u001b[0m\u001b[0;34m)\u001b[0m\u001b[0;34m:\u001b[0m\u001b[0;34m\u001b[0m\u001b[0;34m\u001b[0m\u001b[0m\n",
            "\u001b[0;32m/content/face_toolbox_keras/models/detector/s3fd/s3fd_detector.py\u001b[0m in \u001b[0;36m__init__\u001b[0;34m(self=<models.detector.s3fd.s3fd_detector.S3FD object>, weights_path=PosixPath('/content/face_toolbox_keras/models/detector/s3fd/s3fd_keras_weights.h5'))\u001b[0m\n\u001b[1;32m      5\u001b[0m \u001b[0;32mclass\u001b[0m \u001b[0mS3FD\u001b[0m\u001b[0;34m(\u001b[0m\u001b[0;34m)\u001b[0m\u001b[0;34m:\u001b[0m\u001b[0;34m\u001b[0m\u001b[0;34m\u001b[0m\u001b[0m\n\u001b[1;32m      6\u001b[0m     \u001b[0;32mdef\u001b[0m \u001b[0m__init__\u001b[0m\u001b[0;34m(\u001b[0m\u001b[0mself\u001b[0m\u001b[0;34m,\u001b[0m \u001b[0mweights_path\u001b[0m\u001b[0;34m=\u001b[0m\u001b[0;34m\"./detector/s3fd/s3fd_keras_weights.h5\"\u001b[0m\u001b[0;34m)\u001b[0m\u001b[0;34m:\u001b[0m\u001b[0;34m\u001b[0m\u001b[0;34m\u001b[0m\u001b[0m\n\u001b[0;32m----> 7\u001b[0;31m         \u001b[0mself\u001b[0m\u001b[0;34m.\u001b[0m\u001b[0mnet\u001b[0m \u001b[0;34m=\u001b[0m \u001b[0ms3fd_keras\u001b[0m\u001b[0;34m(\u001b[0m\u001b[0;34m)\u001b[0m\u001b[0;34m\u001b[0m\u001b[0;34m\u001b[0m\u001b[0m\n\u001b[0m        \u001b[0;36mself.net\u001b[0m \u001b[0;34m= \u001b[0;36mundefined\u001b[0m\u001b[0m\u001b[0;34m\n        \u001b[0m\u001b[0;36mglobal\u001b[0m \u001b[0;36ms3fd_keras\u001b[0m \u001b[0;34m= <function s3fd_keras at 0x7fb6ce836510>\u001b[0m\n\u001b[1;32m      8\u001b[0m         \u001b[0mself\u001b[0m\u001b[0;34m.\u001b[0m\u001b[0mnet\u001b[0m\u001b[0;34m.\u001b[0m\u001b[0mload_weights\u001b[0m\u001b[0;34m(\u001b[0m\u001b[0mweights_path\u001b[0m\u001b[0;34m)\u001b[0m\u001b[0;34m\u001b[0m\u001b[0;34m\u001b[0m\u001b[0m\n\u001b[1;32m      9\u001b[0m \u001b[0;34m\u001b[0m\u001b[0m\n",
            "\u001b[0;32m/content/face_toolbox_keras/models/detector/s3fd/model.py\u001b[0m in \u001b[0;36ms3fd_keras\u001b[0;34m()\u001b[0m\n\u001b[1;32m     80\u001b[0m     \u001b[0mf7_2\u001b[0m \u001b[0;34m=\u001b[0m \u001b[0mconv7_2\u001b[0m\u001b[0;34m\u001b[0m\u001b[0;34m\u001b[0m\u001b[0m\n\u001b[1;32m     81\u001b[0m \u001b[0;34m\u001b[0m\u001b[0m\n\u001b[0;32m---> 82\u001b[0;31m     \u001b[0mf3_3\u001b[0m \u001b[0;34m=\u001b[0m \u001b[0mL2Norm\u001b[0m\u001b[0;34m(\u001b[0m\u001b[0mn_channels\u001b[0m\u001b[0;34m=\u001b[0m\u001b[0;36m256\u001b[0m\u001b[0;34m,\u001b[0m \u001b[0mscale\u001b[0m\u001b[0;34m=\u001b[0m\u001b[0;36m10\u001b[0m\u001b[0;34m,\u001b[0m \u001b[0mname\u001b[0m\u001b[0;34m=\u001b[0m\u001b[0;34m\"conv3_3_norm\"\u001b[0m\u001b[0;34m)\u001b[0m\u001b[0;34m(\u001b[0m\u001b[0mf3_3\u001b[0m\u001b[0;34m)\u001b[0m\u001b[0;34m\u001b[0m\u001b[0;34m\u001b[0m\u001b[0m\n\u001b[0m        \u001b[0;36mf3_3\u001b[0m \u001b[0;34m= <tf.Tensor 'conv3_3/Identity:0' shape=(None, None, None, 256) dtype=float32>\u001b[0m\u001b[0;34m\n        \u001b[0m\u001b[0;36mglobal\u001b[0m \u001b[0;36mL2Norm\u001b[0m \u001b[0;34m= <class 'models.detector.s3fd.model.L2Norm'>\u001b[0m\u001b[0;34m\n        \u001b[0m\u001b[0;36mglobal\u001b[0m \u001b[0;36mn_channels\u001b[0m \u001b[0;34m= \u001b[0;36mundefined\u001b[0m\u001b[0m\u001b[0;34m\n        \u001b[0m\u001b[0;36mglobal\u001b[0m \u001b[0;36mscale\u001b[0m \u001b[0;34m= \u001b[0;36mundefined\u001b[0m\u001b[0m\u001b[0;34m\n        \u001b[0m\u001b[0;36mglobal\u001b[0m \u001b[0;36mname\u001b[0m \u001b[0;34m= \u001b[0;36mundefined\u001b[0m\u001b[0m\n\u001b[1;32m     83\u001b[0m     \u001b[0mf4_3\u001b[0m \u001b[0;34m=\u001b[0m \u001b[0mL2Norm\u001b[0m\u001b[0;34m(\u001b[0m\u001b[0mn_channels\u001b[0m\u001b[0;34m=\u001b[0m\u001b[0;36m512\u001b[0m\u001b[0;34m,\u001b[0m \u001b[0mscale\u001b[0m\u001b[0;34m=\u001b[0m\u001b[0;36m8\u001b[0m\u001b[0;34m,\u001b[0m \u001b[0mname\u001b[0m\u001b[0;34m=\u001b[0m\u001b[0;34m\"conv4_3_norm\"\u001b[0m\u001b[0;34m)\u001b[0m\u001b[0;34m(\u001b[0m\u001b[0mf4_3\u001b[0m\u001b[0;34m)\u001b[0m\u001b[0;34m\u001b[0m\u001b[0;34m\u001b[0m\u001b[0m\n\u001b[1;32m     84\u001b[0m     \u001b[0mf5_3\u001b[0m \u001b[0;34m=\u001b[0m \u001b[0mL2Norm\u001b[0m\u001b[0;34m(\u001b[0m\u001b[0mn_channels\u001b[0m\u001b[0;34m=\u001b[0m\u001b[0;36m512\u001b[0m\u001b[0;34m,\u001b[0m \u001b[0mscale\u001b[0m\u001b[0;34m=\u001b[0m\u001b[0;36m5\u001b[0m\u001b[0;34m,\u001b[0m \u001b[0mname\u001b[0m\u001b[0;34m=\u001b[0m\u001b[0;34m\"conv5_3_norm\"\u001b[0m\u001b[0;34m)\u001b[0m\u001b[0;34m(\u001b[0m\u001b[0mf5_3\u001b[0m\u001b[0;34m)\u001b[0m\u001b[0;34m\u001b[0m\u001b[0;34m\u001b[0m\u001b[0m\n",
            "\u001b[0;32m/content/face_toolbox_keras/models/detector/s3fd/model.py\u001b[0m in \u001b[0;36m__init__\u001b[0;34m(self=<models.detector.s3fd.model.L2Norm object>, weights=None, axis=-1, gamma_init='zero', n_channels=256, scale=10, **kwargs={'name': 'conv3_3_norm'})\u001b[0m\n\u001b[1;32m     11\u001b[0m     \u001b[0;32mdef\u001b[0m \u001b[0m__init__\u001b[0m\u001b[0;34m(\u001b[0m\u001b[0mself\u001b[0m\u001b[0;34m,\u001b[0m \u001b[0mweights\u001b[0m\u001b[0;34m=\u001b[0m\u001b[0;32mNone\u001b[0m\u001b[0;34m,\u001b[0m \u001b[0maxis\u001b[0m\u001b[0;34m=\u001b[0m\u001b[0;34m-\u001b[0m\u001b[0;36m1\u001b[0m\u001b[0;34m,\u001b[0m \u001b[0mgamma_init\u001b[0m\u001b[0;34m=\u001b[0m\u001b[0;34m'zero'\u001b[0m\u001b[0;34m,\u001b[0m \u001b[0mn_channels\u001b[0m\u001b[0;34m=\u001b[0m\u001b[0;36m256\u001b[0m\u001b[0;34m,\u001b[0m \u001b[0mscale\u001b[0m\u001b[0;34m=\u001b[0m\u001b[0;36m10\u001b[0m\u001b[0;34m,\u001b[0m \u001b[0;34m**\u001b[0m\u001b[0mkwargs\u001b[0m\u001b[0;34m)\u001b[0m\u001b[0;34m:\u001b[0m\u001b[0;34m\u001b[0m\u001b[0;34m\u001b[0m\u001b[0m\n\u001b[1;32m     12\u001b[0m         \u001b[0mself\u001b[0m\u001b[0;34m.\u001b[0m\u001b[0maxis\u001b[0m \u001b[0;34m=\u001b[0m \u001b[0maxis\u001b[0m\u001b[0;34m\u001b[0m\u001b[0;34m\u001b[0m\u001b[0m\n\u001b[0;32m---> 13\u001b[0;31m         \u001b[0mself\u001b[0m\u001b[0;34m.\u001b[0m\u001b[0mgamma_init\u001b[0m \u001b[0;34m=\u001b[0m \u001b[0minitializers\u001b[0m\u001b[0;34m.\u001b[0m\u001b[0mget\u001b[0m\u001b[0;34m(\u001b[0m\u001b[0mgamma_init\u001b[0m\u001b[0;34m)\u001b[0m\u001b[0;34m\u001b[0m\u001b[0;34m\u001b[0m\u001b[0m\n\u001b[0m        \u001b[0;36mself.gamma_init\u001b[0m \u001b[0;34m= \u001b[0;36mundefined\u001b[0m\u001b[0m\u001b[0;34m\n        \u001b[0m\u001b[0;36mglobal\u001b[0m \u001b[0;36minitializers.get\u001b[0m \u001b[0;34m= \u001b[0;36mundefined\u001b[0m\u001b[0m\u001b[0;34m\n        \u001b[0m\u001b[0;36mgamma_init\u001b[0m \u001b[0;34m= 'zero'\u001b[0m\n\u001b[1;32m     14\u001b[0m         \u001b[0mself\u001b[0m\u001b[0;34m.\u001b[0m\u001b[0minitial_weights\u001b[0m \u001b[0;34m=\u001b[0m \u001b[0mweights\u001b[0m\u001b[0;34m\u001b[0m\u001b[0;34m\u001b[0m\u001b[0m\n\u001b[1;32m     15\u001b[0m         \u001b[0mself\u001b[0m\u001b[0;34m.\u001b[0m\u001b[0mn_channels\u001b[0m \u001b[0;34m=\u001b[0m \u001b[0mn_channels\u001b[0m\u001b[0;34m\u001b[0m\u001b[0;34m\u001b[0m\u001b[0m\n",
            "\u001b[0;31mNameError\u001b[0m: name 'initializers' is not defined"
          ]
        },
        {
          "output_type": "stream",
          "text": [
            "> \u001b[0;32m/content/face_toolbox_keras/models/detector/s3fd/model.py\u001b[0m(13)\u001b[0;36m__init__\u001b[0;34m()\u001b[0m\n",
            "\u001b[0;32m     11 \u001b[0;31m    \u001b[0;32mdef\u001b[0m \u001b[0m__init__\u001b[0m\u001b[0;34m(\u001b[0m\u001b[0mself\u001b[0m\u001b[0;34m,\u001b[0m \u001b[0mweights\u001b[0m\u001b[0;34m=\u001b[0m\u001b[0;32mNone\u001b[0m\u001b[0;34m,\u001b[0m \u001b[0maxis\u001b[0m\u001b[0;34m=\u001b[0m\u001b[0;34m-\u001b[0m\u001b[0;36m1\u001b[0m\u001b[0;34m,\u001b[0m \u001b[0mgamma_init\u001b[0m\u001b[0;34m=\u001b[0m\u001b[0;34m'zero'\u001b[0m\u001b[0;34m,\u001b[0m \u001b[0mn_channels\u001b[0m\u001b[0;34m=\u001b[0m\u001b[0;36m256\u001b[0m\u001b[0;34m,\u001b[0m \u001b[0mscale\u001b[0m\u001b[0;34m=\u001b[0m\u001b[0;36m10\u001b[0m\u001b[0;34m,\u001b[0m \u001b[0;34m**\u001b[0m\u001b[0mkwargs\u001b[0m\u001b[0;34m)\u001b[0m\u001b[0;34m:\u001b[0m\u001b[0;34m\u001b[0m\u001b[0;34m\u001b[0m\u001b[0m\n",
            "\u001b[0m\u001b[0;32m     12 \u001b[0;31m        \u001b[0mself\u001b[0m\u001b[0;34m.\u001b[0m\u001b[0maxis\u001b[0m \u001b[0;34m=\u001b[0m \u001b[0maxis\u001b[0m\u001b[0;34m\u001b[0m\u001b[0;34m\u001b[0m\u001b[0m\n",
            "\u001b[0m\u001b[0;32m---> 13 \u001b[0;31m        \u001b[0mself\u001b[0m\u001b[0;34m.\u001b[0m\u001b[0mgamma_init\u001b[0m \u001b[0;34m=\u001b[0m \u001b[0minitializers\u001b[0m\u001b[0;34m.\u001b[0m\u001b[0mget\u001b[0m\u001b[0;34m(\u001b[0m\u001b[0mgamma_init\u001b[0m\u001b[0;34m)\u001b[0m\u001b[0;34m\u001b[0m\u001b[0;34m\u001b[0m\u001b[0m\n",
            "\u001b[0m\u001b[0;32m     14 \u001b[0;31m        \u001b[0mself\u001b[0m\u001b[0;34m.\u001b[0m\u001b[0minitial_weights\u001b[0m \u001b[0;34m=\u001b[0m \u001b[0mweights\u001b[0m\u001b[0;34m\u001b[0m\u001b[0;34m\u001b[0m\u001b[0m\n",
            "\u001b[0m\u001b[0;32m     15 \u001b[0;31m        \u001b[0mself\u001b[0m\u001b[0;34m.\u001b[0m\u001b[0mn_channels\u001b[0m \u001b[0;34m=\u001b[0m \u001b[0mn_channels\u001b[0m\u001b[0;34m\u001b[0m\u001b[0;34m\u001b[0m\u001b[0m\n",
            "\u001b[0m\n",
            "ipdb> w\n",
            "  \u001b[0;32m<ipython-input-15-2abf23d1ef98>\u001b[0m(2)\u001b[0;36m<module>\u001b[0;34m()\u001b[0m\n",
            "\u001b[1;32m      1 \u001b[0mfd = face_detector.FaceAlignmentDetector(\n",
            "\u001b[0;32m----> 2 \u001b[0;31m    \u001b[0mlmd_weights_path\u001b[0m\u001b[0;34m=\u001b[0m\u001b[0;34m\"./models/detector/FAN/2DFAN-4_keras.h5\"\u001b[0m\u001b[0;31m# 2DFAN-4_keras.h5, 2DFAN-1_keras.h5\u001b[0m\u001b[0;34m\u001b[0m\u001b[0;34m\u001b[0m\u001b[0m\n",
            "\u001b[0m\u001b[1;32m      3 \u001b[0m)\n",
            "\n",
            "  \u001b[0;32m/content/face_toolbox_keras/models/detector/face_detector.py\u001b[0m(50)\u001b[0;36m__init__\u001b[0;34m()\u001b[0m\n",
            "\u001b[1;32m     48 \u001b[0m        \u001b[0mself\u001b[0m\u001b[0;34m.\u001b[0m\u001b[0mfd_type\u001b[0m \u001b[0;34m=\u001b[0m \u001b[0mfd_type\u001b[0m\u001b[0;34m.\u001b[0m\u001b[0mlower\u001b[0m\u001b[0;34m(\u001b[0m\u001b[0;34m)\u001b[0m\u001b[0;34m\u001b[0m\u001b[0;34m\u001b[0m\u001b[0m\n",
            "\u001b[1;32m     49 \u001b[0m        \u001b[0;32mif\u001b[0m \u001b[0mfd_type\u001b[0m\u001b[0;34m.\u001b[0m\u001b[0mlower\u001b[0m\u001b[0;34m(\u001b[0m\u001b[0;34m)\u001b[0m \u001b[0;34m==\u001b[0m \u001b[0;34m\"s3fd\"\u001b[0m\u001b[0;34m:\u001b[0m\u001b[0;34m\u001b[0m\u001b[0;34m\u001b[0m\u001b[0m\n",
            "\u001b[0;32m---> 50 \u001b[0;31m            \u001b[0mself\u001b[0m\u001b[0;34m.\u001b[0m\u001b[0mfd\u001b[0m \u001b[0;34m=\u001b[0m \u001b[0mS3FaceDetector\u001b[0m\u001b[0;34m(\u001b[0m\u001b[0mfd_weights_path\u001b[0m\u001b[0;34m)\u001b[0m\u001b[0;34m\u001b[0m\u001b[0;34m\u001b[0m\u001b[0m\n",
            "\u001b[0m\u001b[1;32m     51 \u001b[0m        \u001b[0;32melif\u001b[0m \u001b[0mfd_type\u001b[0m\u001b[0;34m.\u001b[0m\u001b[0mlower\u001b[0m\u001b[0;34m(\u001b[0m\u001b[0;34m)\u001b[0m \u001b[0;34m==\u001b[0m \u001b[0;34m\"mtcnn\"\u001b[0m\u001b[0;34m:\u001b[0m\u001b[0;34m\u001b[0m\u001b[0;34m\u001b[0m\u001b[0m\n",
            "\u001b[1;32m     52 \u001b[0m            \u001b[0mself\u001b[0m\u001b[0;34m.\u001b[0m\u001b[0mfd\u001b[0m \u001b[0;34m=\u001b[0m \u001b[0mMTCNNFaceDetector\u001b[0m\u001b[0;34m(\u001b[0m\u001b[0;34m)\u001b[0m\u001b[0;34m\u001b[0m\u001b[0;34m\u001b[0m\u001b[0m\n",
            "\n",
            "  \u001b[0;32m/content/face_toolbox_keras/models/detector/face_detector.py\u001b[0m(34)\u001b[0;36m__init__\u001b[0;34m()\u001b[0m\n",
            "\u001b[1;32m     32 \u001b[0m\u001b[0;32mclass\u001b[0m \u001b[0mS3FaceDetector\u001b[0m\u001b[0;34m(\u001b[0m\u001b[0mBaseFaceDetector\u001b[0m\u001b[0;34m)\u001b[0m\u001b[0;34m:\u001b[0m\u001b[0;34m\u001b[0m\u001b[0;34m\u001b[0m\u001b[0m\n",
            "\u001b[1;32m     33 \u001b[0m    \u001b[0;32mdef\u001b[0m \u001b[0m__init__\u001b[0m\u001b[0;34m(\u001b[0m\u001b[0mself\u001b[0m\u001b[0;34m,\u001b[0m \u001b[0mweights_path\u001b[0m\u001b[0;34m=\u001b[0m\u001b[0mFILE_PATH\u001b[0m \u001b[0;34m/\u001b[0m \u001b[0;34m\"s3fd\"\u001b[0m \u001b[0;34m/\u001b[0m \u001b[0;34m\"s3fd_keras_weights.h5\"\u001b[0m\u001b[0;34m)\u001b[0m\u001b[0;34m:\u001b[0m\u001b[0;34m\u001b[0m\u001b[0;34m\u001b[0m\u001b[0m\n",
            "\u001b[0;32m---> 34 \u001b[0;31m        \u001b[0mself\u001b[0m\u001b[0;34m.\u001b[0m\u001b[0mface_detector\u001b[0m \u001b[0;34m=\u001b[0m \u001b[0mS3FD\u001b[0m\u001b[0;34m(\u001b[0m\u001b[0mweights_path\u001b[0m\u001b[0;34m)\u001b[0m\u001b[0;34m\u001b[0m\u001b[0;34m\u001b[0m\u001b[0m\n",
            "\u001b[0m\u001b[1;32m     35 \u001b[0m\u001b[0;34m\u001b[0m\u001b[0m\n",
            "\u001b[1;32m     36 \u001b[0m    \u001b[0;32mdef\u001b[0m \u001b[0mdetect_face\u001b[0m\u001b[0;34m(\u001b[0m\u001b[0mself\u001b[0m\u001b[0;34m,\u001b[0m \u001b[0mimage\u001b[0m\u001b[0;34m)\u001b[0m\u001b[0;34m:\u001b[0m\u001b[0;34m\u001b[0m\u001b[0;34m\u001b[0m\u001b[0m\n",
            "\n",
            "  \u001b[0;32m/content/face_toolbox_keras/models/detector/s3fd/s3fd_detector.py\u001b[0m(7)\u001b[0;36m__init__\u001b[0;34m()\u001b[0m\n",
            "\u001b[1;32m      5 \u001b[0m\u001b[0;32mclass\u001b[0m \u001b[0mS3FD\u001b[0m\u001b[0;34m(\u001b[0m\u001b[0;34m)\u001b[0m\u001b[0;34m:\u001b[0m\u001b[0;34m\u001b[0m\u001b[0;34m\u001b[0m\u001b[0m\n",
            "\u001b[1;32m      6 \u001b[0m    \u001b[0;32mdef\u001b[0m \u001b[0m__init__\u001b[0m\u001b[0;34m(\u001b[0m\u001b[0mself\u001b[0m\u001b[0;34m,\u001b[0m \u001b[0mweights_path\u001b[0m\u001b[0;34m=\u001b[0m\u001b[0;34m\"./detector/s3fd/s3fd_keras_weights.h5\"\u001b[0m\u001b[0;34m)\u001b[0m\u001b[0;34m:\u001b[0m\u001b[0;34m\u001b[0m\u001b[0;34m\u001b[0m\u001b[0m\n",
            "\u001b[0;32m----> 7 \u001b[0;31m        \u001b[0mself\u001b[0m\u001b[0;34m.\u001b[0m\u001b[0mnet\u001b[0m \u001b[0;34m=\u001b[0m \u001b[0ms3fd_keras\u001b[0m\u001b[0;34m(\u001b[0m\u001b[0;34m)\u001b[0m\u001b[0;34m\u001b[0m\u001b[0;34m\u001b[0m\u001b[0m\n",
            "\u001b[0m\u001b[1;32m      8 \u001b[0m        \u001b[0mself\u001b[0m\u001b[0;34m.\u001b[0m\u001b[0mnet\u001b[0m\u001b[0;34m.\u001b[0m\u001b[0mload_weights\u001b[0m\u001b[0;34m(\u001b[0m\u001b[0mweights_path\u001b[0m\u001b[0;34m)\u001b[0m\u001b[0;34m\u001b[0m\u001b[0;34m\u001b[0m\u001b[0m\n",
            "\u001b[1;32m      9 \u001b[0m\u001b[0;34m\u001b[0m\u001b[0m\n",
            "\n",
            "  \u001b[0;32m/content/face_toolbox_keras/models/detector/s3fd/model.py\u001b[0m(82)\u001b[0;36ms3fd_keras\u001b[0;34m()\u001b[0m\n",
            "\u001b[1;32m     80 \u001b[0m    \u001b[0mf7_2\u001b[0m \u001b[0;34m=\u001b[0m \u001b[0mconv7_2\u001b[0m\u001b[0;34m\u001b[0m\u001b[0;34m\u001b[0m\u001b[0m\n",
            "\u001b[1;32m     81 \u001b[0m\u001b[0;34m\u001b[0m\u001b[0m\n",
            "\u001b[0;32m---> 82 \u001b[0;31m    \u001b[0mf3_3\u001b[0m \u001b[0;34m=\u001b[0m \u001b[0mL2Norm\u001b[0m\u001b[0;34m(\u001b[0m\u001b[0mn_channels\u001b[0m\u001b[0;34m=\u001b[0m\u001b[0;36m256\u001b[0m\u001b[0;34m,\u001b[0m \u001b[0mscale\u001b[0m\u001b[0;34m=\u001b[0m\u001b[0;36m10\u001b[0m\u001b[0;34m,\u001b[0m \u001b[0mname\u001b[0m\u001b[0;34m=\u001b[0m\u001b[0;34m\"conv3_3_norm\"\u001b[0m\u001b[0;34m)\u001b[0m\u001b[0;34m(\u001b[0m\u001b[0mf3_3\u001b[0m\u001b[0;34m)\u001b[0m\u001b[0;34m\u001b[0m\u001b[0;34m\u001b[0m\u001b[0m\n",
            "\u001b[0m\u001b[1;32m     83 \u001b[0m    \u001b[0mf4_3\u001b[0m \u001b[0;34m=\u001b[0m \u001b[0mL2Norm\u001b[0m\u001b[0;34m(\u001b[0m\u001b[0mn_channels\u001b[0m\u001b[0;34m=\u001b[0m\u001b[0;36m512\u001b[0m\u001b[0;34m,\u001b[0m \u001b[0mscale\u001b[0m\u001b[0;34m=\u001b[0m\u001b[0;36m8\u001b[0m\u001b[0;34m,\u001b[0m \u001b[0mname\u001b[0m\u001b[0;34m=\u001b[0m\u001b[0;34m\"conv4_3_norm\"\u001b[0m\u001b[0;34m)\u001b[0m\u001b[0;34m(\u001b[0m\u001b[0mf4_3\u001b[0m\u001b[0;34m)\u001b[0m\u001b[0;34m\u001b[0m\u001b[0;34m\u001b[0m\u001b[0m\n",
            "\u001b[1;32m     84 \u001b[0m    \u001b[0mf5_3\u001b[0m \u001b[0;34m=\u001b[0m \u001b[0mL2Norm\u001b[0m\u001b[0;34m(\u001b[0m\u001b[0mn_channels\u001b[0m\u001b[0;34m=\u001b[0m\u001b[0;36m512\u001b[0m\u001b[0;34m,\u001b[0m \u001b[0mscale\u001b[0m\u001b[0;34m=\u001b[0m\u001b[0;36m5\u001b[0m\u001b[0;34m,\u001b[0m \u001b[0mname\u001b[0m\u001b[0;34m=\u001b[0m\u001b[0;34m\"conv5_3_norm\"\u001b[0m\u001b[0;34m)\u001b[0m\u001b[0;34m(\u001b[0m\u001b[0mf5_3\u001b[0m\u001b[0;34m)\u001b[0m\u001b[0;34m\u001b[0m\u001b[0;34m\u001b[0m\u001b[0m\n",
            "\n",
            "> \u001b[0;32m/content/face_toolbox_keras/models/detector/s3fd/model.py\u001b[0m(13)\u001b[0;36m__init__\u001b[0;34m()\u001b[0m\n",
            "\u001b[0;32m     11 \u001b[0;31m    \u001b[0;32mdef\u001b[0m \u001b[0m__init__\u001b[0m\u001b[0;34m(\u001b[0m\u001b[0mself\u001b[0m\u001b[0;34m,\u001b[0m \u001b[0mweights\u001b[0m\u001b[0;34m=\u001b[0m\u001b[0;32mNone\u001b[0m\u001b[0;34m,\u001b[0m \u001b[0maxis\u001b[0m\u001b[0;34m=\u001b[0m\u001b[0;34m-\u001b[0m\u001b[0;36m1\u001b[0m\u001b[0;34m,\u001b[0m \u001b[0mgamma_init\u001b[0m\u001b[0;34m=\u001b[0m\u001b[0;34m'zero'\u001b[0m\u001b[0;34m,\u001b[0m \u001b[0mn_channels\u001b[0m\u001b[0;34m=\u001b[0m\u001b[0;36m256\u001b[0m\u001b[0;34m,\u001b[0m \u001b[0mscale\u001b[0m\u001b[0;34m=\u001b[0m\u001b[0;36m10\u001b[0m\u001b[0;34m,\u001b[0m \u001b[0;34m**\u001b[0m\u001b[0mkwargs\u001b[0m\u001b[0;34m)\u001b[0m\u001b[0;34m:\u001b[0m\u001b[0;34m\u001b[0m\u001b[0;34m\u001b[0m\u001b[0m\n",
            "\u001b[0m\u001b[0;32m     12 \u001b[0;31m        \u001b[0mself\u001b[0m\u001b[0;34m.\u001b[0m\u001b[0maxis\u001b[0m \u001b[0;34m=\u001b[0m \u001b[0maxis\u001b[0m\u001b[0;34m\u001b[0m\u001b[0;34m\u001b[0m\u001b[0m\n",
            "\u001b[0m\u001b[0;32m---> 13 \u001b[0;31m        \u001b[0mself\u001b[0m\u001b[0;34m.\u001b[0m\u001b[0mgamma_init\u001b[0m \u001b[0;34m=\u001b[0m \u001b[0minitializers\u001b[0m\u001b[0;34m.\u001b[0m\u001b[0mget\u001b[0m\u001b[0;34m(\u001b[0m\u001b[0mgamma_init\u001b[0m\u001b[0;34m)\u001b[0m\u001b[0;34m\u001b[0m\u001b[0;34m\u001b[0m\u001b[0m\n",
            "\u001b[0m\u001b[0;32m     14 \u001b[0;31m        \u001b[0mself\u001b[0m\u001b[0;34m.\u001b[0m\u001b[0minitial_weights\u001b[0m \u001b[0;34m=\u001b[0m \u001b[0mweights\u001b[0m\u001b[0;34m\u001b[0m\u001b[0;34m\u001b[0m\u001b[0m\n",
            "\u001b[0m\u001b[0;32m     15 \u001b[0;31m        \u001b[0mself\u001b[0m\u001b[0;34m.\u001b[0m\u001b[0mn_channels\u001b[0m \u001b[0;34m=\u001b[0m \u001b[0mn_channels\u001b[0m\u001b[0;34m\u001b[0m\u001b[0;34m\u001b[0m\u001b[0m\n",
            "\u001b[0m\n",
            "ipdb> whatis self.gamma_init\n",
            "*** AttributeError: 'L2Norm' object has no attribute 'gamma_init'\n",
            "ipdb> whatis initializer\n",
            "*** NameError: name 'initializer' is not defined\n",
            "ipdb> whatis initializers\n",
            "*** NameError: name 'initializers' is not defined\n"
          ],
          "name": "stdout"
        }
      ]
    },
    {
      "cell_type": "markdown",
      "metadata": {
        "colab_type": "text",
        "id": "PwBYeucfGgCP"
      },
      "source": [
        "## Detect faces"
      ]
    },
    {
      "cell_type": "code",
      "metadata": {
        "colab_type": "code",
        "id": "-8-gmEprGgCQ",
        "colab": {}
      },
      "source": [
        "bboxes = fd.detect_face(im, with_landmarks=False)"
      ],
      "execution_count": 0,
      "outputs": []
    },
    {
      "cell_type": "code",
      "metadata": {
        "colab_type": "code",
        "id": "piUWSjxcGgCS",
        "colab": {}
      },
      "source": [
        "assert len(bboxes) > 0, \"No face detected.\"\n",
        "\n",
        "# Display detected face\n",
        "x0, y0, x1, y1, score = bboxes[0] # show the first detected face\n",
        "x0, y0, x1, y1 = map(int, [x0, y0, x1, y1])\n",
        "\n",
        "plt.imshow(im[x0:x1, y0:y1, :])"
      ],
      "execution_count": 0,
      "outputs": []
    },
    {
      "cell_type": "markdown",
      "metadata": {
        "colab_type": "text",
        "id": "dJDToOZTGgCV"
      },
      "source": [
        "## Detect faces and landmarks\n",
        "\n",
        "`FaceDetector` will instantiate `FANLandmarksDetector` when calling `detect_face(with_landmarks=True)` the first time."
      ]
    },
    {
      "cell_type": "code",
      "metadata": {
        "colab_type": "code",
        "id": "9YZfffvrGgCW",
        "colab": {}
      },
      "source": [
        "bboxes, landmarks = fd.detect_face(im, with_landmarks=True)"
      ],
      "execution_count": 0,
      "outputs": []
    },
    {
      "cell_type": "code",
      "metadata": {
        "colab_type": "code",
        "id": "kORm_RP9GgCZ",
        "colab": {}
      },
      "source": [
        "# Display landmarks\n",
        "plt.figure(figsize=(15,8))\n",
        "num_faces = len(bboxes)\n",
        "for i in range(num_faces):\n",
        "    try:\n",
        "        plt.subplot(1, num_faces, i+1)\n",
        "        plt.imshow(fd.draw_landmarks(im, landmarks[i], color=(0,255,0)))\n",
        "    except:\n",
        "        pass"
      ],
      "execution_count": 0,
      "outputs": []
    },
    {
      "cell_type": "markdown",
      "metadata": {
        "colab_type": "text",
        "id": "QWMHqy0XGgCc"
      },
      "source": [
        "---\n",
        "# 2. Face parsing\n",
        "\n",
        "Face parsing using BiSeNet."
      ]
    },
    {
      "cell_type": "code",
      "metadata": {
        "colab_type": "code",
        "id": "bvP0eXBHGgCd",
        "colab": {}
      },
      "source": [
        "from models.parser import face_parser"
      ],
      "execution_count": 0,
      "outputs": []
    },
    {
      "cell_type": "code",
      "metadata": {
        "colab_type": "code",
        "id": "iSzS_ruNGgCj",
        "colab": {}
      },
      "source": [
        "prs = face_parser.FaceParser()"
      ],
      "execution_count": 0,
      "outputs": []
    },
    {
      "cell_type": "markdown",
      "metadata": {
        "colab_type": "text",
        "id": "H5KgFZ2NGgCl"
      },
      "source": [
        "## Parse without deteciton"
      ]
    },
    {
      "cell_type": "code",
      "metadata": {
        "colab_type": "code",
        "id": "E8iQ10RyGgCm",
        "colab": {}
      },
      "source": [
        "out = prs.parse_face(im)"
      ],
      "execution_count": 0,
      "outputs": []
    },
    {
      "cell_type": "code",
      "metadata": {
        "colab_type": "code",
        "id": "vFmr0AbZGgCp",
        "colab": {}
      },
      "source": [
        "plt.imshow(out[0])"
      ],
      "execution_count": 0,
      "outputs": []
    },
    {
      "cell_type": "code",
      "metadata": {
        "colab_type": "code",
        "id": "xO7MzXKIGgCt",
        "colab": {}
      },
      "source": [
        "# Show parsing result with annotations\n",
        "\n",
        "from utils.visualize import show_parsing_with_annos\n",
        "show_parsing_with_annos(out[0])"
      ],
      "execution_count": 0,
      "outputs": []
    },
    {
      "cell_type": "markdown",
      "metadata": {
        "colab_type": "text",
        "id": "wWPHBhQ_GgCy"
      },
      "source": [
        "## Parse with detection\n",
        "\n",
        "Parsing network has its best performance on single face (even better if aligned)."
      ]
    },
    {
      "cell_type": "code",
      "metadata": {
        "colab_type": "code",
        "id": "_qDNsRvIGgCy",
        "colab": {}
      },
      "source": [
        "im = cv2.imread(\"images/test2.jpg\")[..., ::-1]\n",
        "im = resize_image(im) # Resize image to prevent GPU OOM.\n",
        "h, w, _ = im.shape\n",
        "plt.imshow(im)"
      ],
      "execution_count": 0,
      "outputs": []
    },
    {
      "cell_type": "code",
      "metadata": {
        "colab_type": "code",
        "id": "xL1hCm4xGgC2",
        "colab": {}
      },
      "source": [
        "# Set detector into FaceParser\n",
        "try:\n",
        "    fd\n",
        "except:\n",
        "    from detector import face_detector\n",
        "    fd = face_detector.FaceAlignmentDetector()\n",
        "    \n",
        "prs.set_detector(fd)\n",
        "# prs.remove_detector()"
      ],
      "execution_count": 0,
      "outputs": []
    },
    {
      "cell_type": "code",
      "metadata": {
        "colab_type": "code",
        "id": "zfvzRfVAGgC4",
        "colab": {}
      },
      "source": [
        "out = prs.parse_face(im, with_detection=True)"
      ],
      "execution_count": 0,
      "outputs": []
    },
    {
      "cell_type": "code",
      "metadata": {
        "colab_type": "code",
        "id": "OuUEFdBOGgC5",
        "colab": {}
      },
      "source": [
        "#plt.figure(figsize=(15,8))\n",
        "num_faces = len(out)\n",
        "for i in range(num_faces):\n",
        "    try:\n",
        "        plt.subplot(1, num_faces, i+1)\n",
        "        plt.imshow(out[i])\n",
        "    except:\n",
        "        pass"
      ],
      "execution_count": 0,
      "outputs": []
    },
    {
      "cell_type": "markdown",
      "metadata": {
        "colab_type": "text",
        "id": "SDaejM-xGgC8"
      },
      "source": [
        "---\n",
        "# 3. Detect irises\n",
        "\n",
        "Iris detection using ELG (Eye region Landmarks based Gaze estimation)."
      ]
    },
    {
      "cell_type": "code",
      "metadata": {
        "colab_type": "code",
        "id": "OpdVhtzqGgC8",
        "colab": {}
      },
      "source": [
        "from models.detector.iris_detector import IrisDetector"
      ],
      "execution_count": 0,
      "outputs": []
    },
    {
      "cell_type": "markdown",
      "metadata": {
        "colab_type": "text",
        "id": "fLi_i5EyGgC-"
      },
      "source": [
        "## Detect iris, eyelibs and pulpils"
      ]
    },
    {
      "cell_type": "code",
      "metadata": {
        "colab_type": "code",
        "id": "9In2ksSkGgC-",
        "colab": {}
      },
      "source": [
        "im = cv2.imread(\"images/test5.jpg\")[..., ::-1]\n",
        "im = resize_image(im) # Resize image to prevent GPU OOM.\n",
        "h, w, _ = im.shape\n",
        "plt.imshow(im)"
      ],
      "execution_count": 0,
      "outputs": []
    },
    {
      "cell_type": "code",
      "metadata": {
        "colab_type": "code",
        "id": "efxChUrHGgDB",
        "colab": {}
      },
      "source": [
        "idet = IrisDetector()"
      ],
      "execution_count": 0,
      "outputs": []
    },
    {
      "cell_type": "code",
      "metadata": {
        "colab_type": "code",
        "id": "24sFjGaTGgDD",
        "colab": {}
      },
      "source": [
        "idet.set_detector(fd)"
      ],
      "execution_count": 0,
      "outputs": []
    },
    {
      "cell_type": "code",
      "metadata": {
        "colab_type": "code",
        "id": "WntRfbIGGgDF",
        "colab": {}
      },
      "source": [
        "eye_lms = idet.detect_iris(im)"
      ],
      "execution_count": 0,
      "outputs": []
    },
    {
      "cell_type": "code",
      "metadata": {
        "colab_type": "code",
        "id": "l6DAtB-9GgDI",
        "colab": {}
      },
      "source": [
        "# Display detection result\n",
        "plt.figure(figsize=(15,10))\n",
        "draw = idet.draw_pupil(im, eye_lms[0][0,...]) # draw left eye\n",
        "draw = idet.draw_pupil(draw, eye_lms[0][1,...]) # draw right eye\n",
        "bboxes = fd.detect_face(im, with_landmarks=False)\n",
        "x0, y0, x1, y1, _ = bboxes[0].astype(np.int32)\n",
        "plt.subplot(1,2,1)\n",
        "plt.imshow(draw)\n",
        "plt.subplot(1,2,2)\n",
        "plt.imshow(draw[x0:x1, y0:y1])"
      ],
      "execution_count": 0,
      "outputs": []
    },
    {
      "cell_type": "markdown",
      "metadata": {
        "colab_type": "text",
        "id": "gTtG7uh8GgDK"
      },
      "source": [
        "---\n",
        "# 4. Face verification\n",
        "\n",
        "Face verification using facenet."
      ]
    },
    {
      "cell_type": "code",
      "metadata": {
        "colab_type": "code",
        "id": "AqFMfXW7GgDL",
        "colab": {}
      },
      "source": [
        "from models.verifier.face_verifier import FaceVerifier"
      ],
      "execution_count": 0,
      "outputs": []
    },
    {
      "cell_type": "code",
      "metadata": {
        "colab_type": "code",
        "id": "sETkNNV2GgDS",
        "colab": {}
      },
      "source": [
        "im1 = cv2.imread(\"images/test0.jpg\")[..., ::-1]\n",
        "im1 = resize_image(im1) # Resize image to prevent GPU OOM.\n",
        "im2 = cv2.imread(\"images/BO1.jpg\")[..., ::-1]\n",
        "im2 = resize_image(im2) # Resize image to prevent GPU OOM.\n",
        "im3 = cv2.imread(\"images/DT.jpg\")[..., ::-1]\n",
        "im3 = resize_image(im3) # Resize image to prevent GPU OOM."
      ],
      "execution_count": 0,
      "outputs": []
    },
    {
      "cell_type": "code",
      "metadata": {
        "colab_type": "code",
        "id": "HA8KpcDyGgDO",
        "colab": {}
      },
      "source": [
        "fv = FaceVerifier(classes=512, extractor=\"facenet\") # extractor=\"insightface\""
      ],
      "execution_count": 0,
      "outputs": []
    },
    {
      "cell_type": "code",
      "metadata": {
        "colab_type": "code",
        "id": "ReTrKGYmGgDP",
        "colab": {}
      },
      "source": [
        "fv.set_detector(fd)"
      ],
      "execution_count": 0,
      "outputs": []
    },
    {
      "cell_type": "markdown",
      "metadata": {
        "colab_type": "text",
        "id": "qGoY0a8nGgDU"
      },
      "source": [
        "## Verify if two given faces are the same person"
      ]
    },
    {
      "cell_type": "code",
      "metadata": {
        "colab_type": "code",
        "id": "D9y8JjvWGgDV",
        "colab": {}
      },
      "source": [
        "# Face verification\n",
        "result1, distance1 = fv.verify(im1, im2, threshold=0.5, with_detection=True, with_alignment=False, return_distance=True)\n",
        "result2, distance2 = fv.verify(im1, im3, threshold=0.5, with_detection=True, with_alignment=False, return_distance=True)"
      ],
      "execution_count": 0,
      "outputs": []
    },
    {
      "cell_type": "code",
      "metadata": {
        "colab_type": "code",
        "id": "N3XI37cHGgDY",
        "colab": {}
      },
      "source": [
        "plt.figure(figsize=(15,6))\n",
        "plt.subplot(1,3,1)\n",
        "plt.title(f\"Source face\")\n",
        "plt.imshow(im1)\n",
        "plt.subplot(1,3,2)\n",
        "plt.title(f\"Same person: {str(result1)}\\n Cosine distance: {str(round(distance1, 2))}\")\n",
        "plt.imshow(im2)\n",
        "plt.subplot(1,3,3)\n",
        "plt.title(f\"Same person: {str(result2)}\\n Cosine distance: {str(round(distance2, 2))}\")\n",
        "plt.imshow(im3)"
      ],
      "execution_count": 0,
      "outputs": []
    },
    {
      "cell_type": "markdown",
      "metadata": {
        "id": "O7u1tfnrVFau",
        "colab_type": "text"
      },
      "source": [
        "---\n",
        "# 5. Gender and Age Estimation\n",
        "\n",
        "Gender/Age estimation using insightface mobilenet."
      ]
    },
    {
      "cell_type": "code",
      "metadata": {
        "id": "j_APzgEmVFav",
        "colab_type": "code",
        "colab": {}
      },
      "source": [
        "from models.estimator.gender_age_estimator import GenderAgeEstimator"
      ],
      "execution_count": 0,
      "outputs": []
    },
    {
      "cell_type": "code",
      "metadata": {
        "id": "zoQBCKt2VFaz",
        "colab_type": "code",
        "colab": {}
      },
      "source": [
        "im = cv2.imread(\"images/BO1.jpg\")[..., ::-1]\n",
        "im = resize_image(im) # Resize image to prevent GPU OOM.\n",
        "h, w, _ = im.shape\n",
        "plt.imshow(im)"
      ],
      "execution_count": 0,
      "outputs": []
    },
    {
      "cell_type": "code",
      "metadata": {
        "id": "ROPSUJkWVFa2",
        "colab_type": "code",
        "colab": {}
      },
      "source": [
        "gae = GenderAgeEstimator(model_type=\"insightface\")"
      ],
      "execution_count": 0,
      "outputs": []
    },
    {
      "cell_type": "code",
      "metadata": {
        "id": "V_-zOOIOVFa5",
        "colab_type": "code",
        "colab": {}
      },
      "source": [
        "gae.set_detector(fd)"
      ],
      "execution_count": 0,
      "outputs": []
    },
    {
      "cell_type": "code",
      "metadata": {
        "id": "DgwLtHCaVFa-",
        "colab_type": "code",
        "colab": {}
      },
      "source": [
        "gender, age = gae.predict_gender_age(im, with_detection=True)"
      ],
      "execution_count": 0,
      "outputs": []
    },
    {
      "cell_type": "code",
      "metadata": {
        "id": "brKz3-LkVFbC",
        "colab_type": "code",
        "colab": {}
      },
      "source": [
        "print(\"Gender: female\") if gender == 0 else print(\"Gender: male\")\n",
        "print(f\"Age: {str(age)}\")"
      ],
      "execution_count": 0,
      "outputs": []
    },
    {
      "cell_type": "code",
      "metadata": {
        "id": "DPdxyyr2VFbH",
        "colab_type": "code",
        "colab": {}
      },
      "source": [
        ""
      ],
      "execution_count": 0,
      "outputs": []
    },
    {
      "cell_type": "code",
      "metadata": {
        "id": "Eg18t0TeVFbK",
        "colab_type": "code",
        "colab": {}
      },
      "source": [
        ""
      ],
      "execution_count": 0,
      "outputs": []
    }
  ]
}